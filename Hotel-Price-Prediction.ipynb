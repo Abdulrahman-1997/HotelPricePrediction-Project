{
 "cells": [
  {
   "cell_type": "code",
   "execution_count": null,
   "id": "b06909a9-c90a-4f19-a4af-4102cc71d91f",
   "metadata": {},
   "outputs": [],
   "source": [
    "import pandas as pd\n",
    "import numpy as np\n",
    "import matplotlib.pyplot as plt\n",
    "import seaborn as sns\n",
    "from sklearn.model_selection import train_test_split\n",
    "from sklearn.impute import SimpleImputer\n",
    "from sklearn.linear_model import LinearRegression\n",
    "from sklearn.preprocessing import LabelEncoder\n",
    "from sklearn.ensemble import HistGradientBoostingRegressor\n",
    "\n",
    "# Load the data\n",
    "df = pd.read_csv(\"hotel_bookings.csv\")\n",
    "\n",
    "# Rename 'adr' to 'price'\n",
    "df.rename(columns={\"adr\": \"price\"}, inplace=True)\n",
    "\n",
    "# Drop unnecessary columns\n",
    "df.drop(columns=[\"company\", \"agent\", \"country\"], inplace=True)\n",
    "\n",
    "# Handle missing values\n",
    "# Using SimpleImputer to replace missing values with the column mean\n",
    "imputer = SimpleImputer(strategy='mean')\n",
    "df_imputed = pd.DataFrame(imputer.fit_transform(df), columns=df.columns)\n",
    "\n",
    "# Encode categorical variables\n",
    "label_encoder = LabelEncoder()\n",
    "df_imputed['hotel'] = label_encoder.fit_transform(df_imputed['hotel'])\n",
    "\n",
    "# Prepare data for training\n",
    "X = df_imputed.drop(\"price\", axis=1)\n",
    "y = df_imputed[\"price\"]\n",
    "\n",
    "# Train-Test Split\n",
    "x_train, x_test, y_train, y_test = train_test_split(X, y, test_size=0.4, random_state=23)\n",
    "\n",
    "# Train Linear Regression model\n",
    "lm = LinearRegression()\n",
    "lm.fit(x_train, y_train)\n",
    "\n",
    "# Or you can try HistGradientBoostingRegressor\n",
    "model = HistGradientBoostingRegressor()\n",
    "model.fit(x_train, y_train)\n",
    "\n",
    "# Evaluate model performance (optional)\n",
    "print(f\"Linear Regression Training score: {lm.score(x_train, y_train)}\")\n",
    "print(f\"Linear Regression Testing score: {lm.score(x_test, y_test)}\")\n",
    "\n",
    "print(f\"HistGradientBoostingRegressor Training score: {model.score(x_train, y_train)}\")\n",
    "print(f\"HistGradientBoostingRegressor Testing score: {model.score(x_test, y_test)}\")\n"
   ]
  }
 ],
 "metadata": {
  "kernelspec": {
   "display_name": "Python 3 (ipykernel)",
   "language": "python",
   "name": "python3"
  },
  "language_info": {
   "codemirror_mode": {
    "name": "ipython",
    "version": 3
   },
   "file_extension": ".py",
   "mimetype": "text/x-python",
   "name": "python",
   "nbconvert_exporter": "python",
   "pygments_lexer": "ipython3",
   "version": "3.12.4"
  }
 },
 "nbformat": 4,
 "nbformat_minor": 5
}
